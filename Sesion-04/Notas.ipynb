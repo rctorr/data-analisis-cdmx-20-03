{
 "cells": [
  {
   "cell_type": "markdown",
   "metadata": {},
   "source": [
    "## Manejo de archivo en Python"
   ]
  },
  {
   "cell_type": "markdown",
   "metadata": {},
   "source": [
    "---\n",
    "EJEMPLO: Uso del módulo csv\n",
    "\n",
    "Modoficar el script `recorridos.py` para que admita la opción `--arch salida.csv` y haciendo uso del módulo csv guardar la lista de recorridos en formato CSV.\n",
    "\n",
    "```\n",
    "$ python recorridos.py --csv --arch recorridos.csv\n",
    "$\n",
    "```\n"
   ]
  }
 ],
 "metadata": {
  "kernelspec": {
   "display_name": "Python 3",
   "language": "python",
   "name": "python3"
  },
  "language_info": {
   "codemirror_mode": {
    "name": "ipython",
    "version": 3
   },
   "file_extension": ".py",
   "mimetype": "text/x-python",
   "name": "python",
   "nbconvert_exporter": "python",
   "pygments_lexer": "ipython3",
   "version": "3.7.4"
  }
 },
 "nbformat": 4,
 "nbformat_minor": 4
}
