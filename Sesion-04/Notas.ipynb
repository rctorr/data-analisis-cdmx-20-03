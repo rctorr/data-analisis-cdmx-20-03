{
 "cells": [
  {
   "cell_type": "markdown",
   "metadata": {},
   "source": [
    "## Manejo de archivos en Python"
   ]
  },
  {
   "cell_type": "markdown",
   "metadata": {},
   "source": [
    "---\n",
    "EJEMPLO: Uso del módulo csv\n",
    "\n",
    "Modoficar el script `recorridos.py` para que admita la opción `--arch salida.csv` y haciendo uso del módulo csv guardar la lista de recorridos en formato CSV.\n",
    "\n",
    "```\n",
    "$ python recorridos.py --csv --arch recorridos.csv\n",
    "$\n",
    "```\n"
   ]
  },
  {
   "cell_type": "markdown",
   "metadata": {},
   "source": [
    "---\n",
    "---\n",
    "### Manipulación de archivos\n",
    "---\n",
    "#### EJEMPLO:\n",
    "\n",
    "Escribe el código en Python para guardar la siguiente frase en un archivo de texto llamado `michael_jordan.txt`.\n",
    "\n",
    "```\n",
    "\"He fallado más de 9,000 tiros en mi carrera. He perdido casi 300 juegos. Veintiséis veces, se me ha confiado para tomar el tiro ganador y lo he perdido. He fallado una y otra vez en mi vida. Y es por eso que tengo éxito\"\n",
    "- Michael Jordan\n",
    "```"
   ]
  },
  {
   "cell_type": "code",
   "execution_count": 9,
   "metadata": {},
   "outputs": [],
   "source": [
    "texto = \"\"\"\n",
    "\"He fallado más de 9,000 tiros en mi carrera. He perdido\n",
    "casi 300 juegos. Veintiséis veces, se me ha confiado para\n",
    "tomar el tiro ganador y lo he perdido. He fallado una y\n",
    "otra vez en mi vida. Y es por eso que tengo éxito\"\n",
    "- Michael Jordan\n",
    "\"\"\"\n",
    "nomarch = \"michael_jordan.txt\"\n",
    "\n",
    "da = open(nomarch, \"w\", encoding=\"utf-8\")  # Descriptor de archivo\n",
    "da.write(texto)  # Guardar el contenido de texto en el archivo\n",
    "da.close()  # cierra el archivo"
   ]
  },
  {
   "cell_type": "code",
   "execution_count": 11,
   "metadata": {},
   "outputs": [],
   "source": [
    "texto = \"\"\"\n",
    "\"He fallado más de 9,000 tiros en mi carrera. He perdido\n",
    "casi 300 juegos. Veintiséis veces, se me ha confiado para\n",
    "tomar el tiro ganador y lo he perdido. He fallado una y\n",
    "otra vez en mi vida. Y es por eso que tengo éxito\"\n",
    "- Michael Jordan\n",
    "\"\"\"\n",
    "nomarch = \"michael_jordan.txt\"\n",
    "\n",
    "with open(nomarch, \"w\", encoding=\"utf-8\") as da:\n",
    "    da.write(texto)"
   ]
  },
  {
   "cell_type": "markdown",
   "metadata": {},
   "source": [
    "---\n",
    "#### EJEMPLO: El módulo [csv](https://docs.python.org/3/library/csv.html)\n",
    "\n",
    "Escribe el código en Python para guardar la siguiente lista de platillos en formato CSV en el archivo `dieta.csv` haciendo uso del módulo `csv`.\n",
    "\n",
    "```\n",
    "ALIMENTO             RACIÓN  CALORÍAS\n",
    "Albóndigas           100g    202 kcal\n",
    "Arroz frito          100g    186 kcal\n",
    "Arroz integral       100g    362 kcal\n",
    "Barbacoa de borrego  100g    170 kcal\n",
    "Burrito              100g    163 kcal\n",
    "```"
   ]
  },
  {
   "cell_type": "code",
   "execution_count": 12,
   "metadata": {},
   "outputs": [],
   "source": [
    "import csv\n",
    "\n",
    "encabezado = [\"ALIMENTO\", \"RACIÓN\", \"CALORÍAS\"]\n",
    "platillos = [\n",
    "    [\"Albóndigas\",\"100g\",\"202 kcal\"],\n",
    "    [\"Arroz frito\",\"100g\",\"186 kcal\"],\n",
    "    [\"Arroz integral\",\"100g\",\"362 kcal\"],\n",
    "    [\"Barbacoa de borrego\",\"100g\",\"170 kcal\"],\n",
    "    [\"Burrito\",\"100g\",\"163 kcal\"]\n",
    "]\n",
    "nomarch = \"dieta.csv\"\n",
    "\n",
    "with open(nomarch, \"w\", encoding=\"utf-8\") as da:\n",
    "    da_csv = csv.writer(da)\n",
    "    da_csv.writerow(encabezado)\n",
    "    da_csv.writerows(platillos)\n"
   ]
  },
  {
   "cell_type": "markdown",
   "metadata": {},
   "source": [
    "---\n",
    "---\n",
    "### Los archivos JSON\n",
    "---\n",
    "#### EJEMPLO: El módulo [json](https://docs.python.org/3/library/json.html)\n",
    "\n",
    "Escribe el código en Python para guardar la siguiente lista de platillos en formato JSON en el archivo `dieta.json` haciendo uso del módulo `json`.\n",
    "\n",
    "```\n",
    "ALIMENTO             RACIÓN  CALORÍAS\n",
    "Albóndigas           100g    202 kcal\n",
    "Arroz frito          100g    186 kcal\n",
    "Arroz integral       100g    362 kcal\n",
    "Barbacoa de borrego  100g    170 kcal\n",
    "Burrito              100g    163 kcal\n",
    "Cierra el pico       100g      0 kcal\n",
    "```"
   ]
  },
  {
   "cell_type": "code",
   "execution_count": 16,
   "metadata": {},
   "outputs": [],
   "source": [
    "import json\n",
    "\n",
    "encabezado = [\"ALIMENTO\", \"RACIÓN\", \"CALORÍAS\"]\n",
    "platillos = [\n",
    "    [\"Albóndigas\",\"100g\",\"202 kcal\"],\n",
    "    [\"Arroz frito\",\"100g\",\"186 kcal\"],\n",
    "    [\"Arroz integral\",\"100g\",\"362 kcal\"],\n",
    "    [\"Barbacoa de borrego\",\"100g\",\"170 kcal\"],\n",
    "    [\"Burrito\",\"100g\",\"163 kcal\"],\n",
    "    [\"Cuerra el pico\",\"100g\",\"0 kcal\"]\n",
    "]\n",
    "nomarch = \"dieta.json\"\n",
    "\n",
    "lista = []  # Lista de platillos en formato diccionario\n",
    "for platillo in platillos:\n",
    "    platillo_dicc = {\n",
    "        encabezado[0] : platillo[0],  # Alimento\n",
    "        encabezado[1] : platillo[1],  # Ración\n",
    "        encabezado[2] : platillo[2],  # kcal      \n",
    "    }\n",
    "    lista.append(platillo_dicc)\n",
    "    \n",
    "with open(nomarch, \"w\", encoding=\"utf-8\") as da:\n",
    "    json.dump(lista, da, indent=4)\n"
   ]
  },
  {
   "cell_type": "markdown",
   "metadata": {},
   "source": [
    "---\n",
    "#### RETO:\n",
    "\n",
    "Módifica el script `recorridos.py` agregando la opción `--json` para que imprima los conceptos en formato JSON.\n",
    "\n",
    "```\n",
    "$ python recorridos.py --json\n",
    "[\n",
    "    {\n",
    "        \"ORIGEN\":\"Roma Sur\",\n",
    "        \"DESTINO\":\"Roma Norte\",\n",
    "        \"TIEMPO\":\"04:00\"\n",
    "    },\n",
    "    ...\n",
    "]\n",
    "```"
   ]
  },
  {
   "cell_type": "markdown",
   "metadata": {},
   "source": [
    "---\n",
    "#### SUB-RETO:\n",
    "\n",
    "Guarda el resultado del script `recorridos.py` en el archivo `salida.json` y abrelo usando Jupyter Lab.\n",
    "\n",
    "```\n",
    "$ python recorridos.py --json > salida.json\n",
    "$\n",
    "```"
   ]
  },
  {
   "cell_type": "code",
   "execution_count": null,
   "metadata": {},
   "outputs": [],
   "source": []
  },
  {
   "cell_type": "code",
   "execution_count": null,
   "metadata": {},
   "outputs": [],
   "source": []
  }
 ],
 "metadata": {
  "kernelspec": {
   "display_name": "Python 3",
   "language": "python",
   "name": "python3"
  },
  "language_info": {
   "codemirror_mode": {
    "name": "ipython",
    "version": 3
   },
   "file_extension": ".py",
   "mimetype": "text/x-python",
   "name": "python",
   "nbconvert_exporter": "python",
   "pygments_lexer": "ipython3",
   "version": "3.7.4"
  }
 },
 "nbformat": 4,
 "nbformat_minor": 4
}
