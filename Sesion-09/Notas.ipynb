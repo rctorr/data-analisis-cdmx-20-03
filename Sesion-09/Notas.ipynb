{
 "cells": [
  {
   "cell_type": "markdown",
   "metadata": {},
   "source": [
    "---\n",
    "---\n",
    "### Bases de datos con Python\n",
    "---\n",
    "#### EJEMPLO: El módulo `sqlite3`\n",
    "\n",
    "Crear una base de datos SQLite3 llamada `productos.sqlite3` que contenga la tabla `Producto` con los campos `id`, `nombre`, `cantidad` y `precio` desde Python.\n",
    "\n",
    "La instrucción en SQL para crear la tabla es la siguiente:\n",
    "\n",
    "```sql\n",
    "\n",
    "```"
   ]
  },
  {
   "cell_type": "code",
   "execution_count": 1,
   "metadata": {},
   "outputs": [],
   "source": [
    "# escribe tu código aquí"
   ]
  },
  {
   "cell_type": "code",
   "execution_count": 22,
   "metadata": {},
   "outputs": [
    {
     "data": {
      "text/plain": [
       "<sqlite3.Cursor at 0x7fdd3ce19ea0>"
      ]
     },
     "execution_count": 22,
     "metadata": {},
     "output_type": "execute_result"
    }
   ],
   "source": [
    "import sqlite3\n",
    "\n",
    "nombd = \"productos.sqlite3\"\n",
    "conn = sqlite3.connect(nombd)\n",
    "cur = conn.cursor()\n",
    "sql = \"DROP TABLE IF EXISTS Producto;\"\n",
    "cur.execute(sql)"
   ]
  },
  {
   "cell_type": "code",
   "execution_count": 24,
   "metadata": {},
   "outputs": [
    {
     "data": {
      "text/plain": [
       "<sqlite3.Cursor at 0x7fdd3ce19ea0>"
      ]
     },
     "execution_count": 24,
     "metadata": {},
     "output_type": "execute_result"
    }
   ],
   "source": [
    "sql = \"\"\"\n",
    "CREATE TABLE Producto (\n",
    "    id INTEGER PRIMARY KEY AUTOINCREMENT,\n",
    "    nombre VARCHAR(40),\n",
    "    cantidad INT,\n",
    "    precio DOUBLE\n",
    ");\"\"\"\n",
    "cur.execute(sql)"
   ]
  },
  {
   "cell_type": "code",
   "execution_count": 25,
   "metadata": {},
   "outputs": [],
   "source": [
    "sql = \"\"\"INSERT INTO Producto VALUES (\n",
    "    null,\n",
    "    'Camisa',\n",
    "    2,\n",
    "    450.00\n",
    ")\"\"\"\n",
    "cur.execute(sql)\n",
    "conn.commit()"
   ]
  },
  {
   "cell_type": "code",
   "execution_count": 16,
   "metadata": {},
   "outputs": [],
   "source": [
    "sql = \"DELETE FROM Producto WHERE id=2\"\n",
    "cur.execute(sql)\n",
    "conn.commit()"
   ]
  },
  {
   "cell_type": "code",
   "execution_count": 17,
   "metadata": {},
   "outputs": [],
   "source": [
    "conn.close()"
   ]
  }
 ],
 "metadata": {
  "kernelspec": {
   "display_name": "Python 3",
   "language": "python",
   "name": "python3"
  },
  "language_info": {
   "codemirror_mode": {
    "name": "ipython",
    "version": 3
   },
   "file_extension": ".py",
   "mimetype": "text/x-python",
   "name": "python",
   "nbconvert_exporter": "python",
   "pygments_lexer": "ipython3",
   "version": "3.7.4"
  }
 },
 "nbformat": 4,
 "nbformat_minor": 4
}
