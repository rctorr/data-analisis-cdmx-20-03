{
 "cells": [
  {
   "cell_type": "markdown",
   "metadata": {},
   "source": [
    "# Programación con Python para analisis de datos"
   ]
  },
  {
   "cell_type": "markdown",
   "metadata": {},
   "source": [
    "---\n",
    "### Módulos y paquetes\n",
    "\n",
    "Ejemplo: Crear el script `le.py` que imprima una Lista de Elementos (le) de la carpeta actual haciendo uso del módulo `os`.\n",
    "\n",
    "```\n",
    "$ python le.py\n",
    "        87  le.py\n",
    "      2891  Retos.ipynb\n",
    "      4096  .ipynb_checkpoints\n",
    "      6857  Notas.ipynb\n",
    "$ \n",
    "```"
   ]
  },
  {
   "cell_type": "code",
   "execution_count": 1,
   "metadata": {},
   "outputs": [],
   "source": [
    "import os"
   ]
  },
  {
   "cell_type": "code",
   "execution_count": 3,
   "metadata": {
    "collapsed": true,
    "jupyter": {
     "outputs_hidden": true
    }
   },
   "outputs": [
    {
     "data": {
      "text/plain": [
       "\u001b[0;31mSignature:\u001b[0m \u001b[0mos\u001b[0m\u001b[0;34m.\u001b[0m\u001b[0mpath\u001b[0m\u001b[0;34m.\u001b[0m\u001b[0mgetsize\u001b[0m\u001b[0;34m(\u001b[0m\u001b[0mfilename\u001b[0m\u001b[0;34m)\u001b[0m\u001b[0;34m\u001b[0m\u001b[0;34m\u001b[0m\u001b[0m\n",
       "\u001b[0;31mDocstring:\u001b[0m Return the size of a file, reported by os.stat().\n",
       "\u001b[0;31mFile:\u001b[0m      ~/miniconda3/lib/python3.7/genericpath.py\n",
       "\u001b[0;31mType:\u001b[0m      function\n"
      ]
     },
     "metadata": {},
     "output_type": "display_data"
    }
   ],
   "source": [
    "os.path.getsize?"
   ]
  },
  {
   "cell_type": "code",
   "execution_count": 4,
   "metadata": {},
   "outputs": [
    {
     "data": {
      "text/plain": [
       "'hola'"
      ]
     },
     "execution_count": 4,
     "metadata": {},
     "output_type": "execute_result"
    }
   ],
   "source": [
    "\"Hola\".lower()"
   ]
  },
  {
   "cell_type": "markdown",
   "metadata": {},
   "source": [
    "Reto: Modifica el script `le.py` para que imprima los elementos ordenados por nombre.\n",
    "\n",
    "```\n",
    "$ python le.py\n",
    "      4096  .ipynb_checkpoints\n",
    "       120  le.py\n",
    "      6712  Notas.ipynb\n",
    "      2891  Retos.ipynb\n",
    "$ \n",
    "```"
   ]
  },
  {
   "cell_type": "markdown",
   "metadata": {},
   "source": [
    "Ejemplo: Modifica el script `le.py` para agregar la fecha de la última modificación haciendo uso del módulo `datetime` o `time`.\n",
    "\n",
    "```\n",
    "$ python le.py\n",
    "       214  2020-05-30T04:34:16  le.py\n",
    "      2891  2020-05-30T04:03:22  Retos.ipynb\n",
    "      4096  2020-05-30T04:11:18  .ipynb_checkpoints\n",
    "      8370  2020-05-30T04:32:40  Notas.ipynb\n",
    "$ \n",
    "```"
   ]
  },
  {
   "cell_type": "code",
   "execution_count": 7,
   "metadata": {},
   "outputs": [
    {
     "data": {
      "text/plain": [
       "\u001b[0;31mSignature:\u001b[0m \u001b[0mos\u001b[0m\u001b[0;34m.\u001b[0m\u001b[0mpath\u001b[0m\u001b[0;34m.\u001b[0m\u001b[0mgetmtime\u001b[0m\u001b[0;34m(\u001b[0m\u001b[0mfilename\u001b[0m\u001b[0;34m)\u001b[0m\u001b[0;34m\u001b[0m\u001b[0;34m\u001b[0m\u001b[0m\n",
       "\u001b[0;31mDocstring:\u001b[0m Return the last modification time of a file, reported by os.stat().\n",
       "\u001b[0;31mFile:\u001b[0m      ~/miniconda3/lib/python3.7/genericpath.py\n",
       "\u001b[0;31mType:\u001b[0m      function\n"
      ]
     },
     "metadata": {},
     "output_type": "display_data"
    }
   ],
   "source": [
    "os.path.getmtime?"
   ]
  },
  {
   "cell_type": "code",
   "execution_count": 8,
   "metadata": {},
   "outputs": [],
   "source": [
    "import datetime"
   ]
  },
  {
   "cell_type": "code",
   "execution_count": 9,
   "metadata": {},
   "outputs": [
    {
     "data": {
      "text/plain": [
       "\u001b[0;31mDocstring:\u001b[0m timestamp[, tz] -> tz's local time from POSIX timestamp.\n",
       "\u001b[0;31mType:\u001b[0m      builtin_function_or_method\n"
      ]
     },
     "metadata": {},
     "output_type": "display_data"
    }
   ],
   "source": [
    "datetime.datetime.fromtimestamp?"
   ]
  },
  {
   "cell_type": "code",
   "execution_count": 20,
   "metadata": {},
   "outputs": [
    {
     "data": {
      "text/plain": [
       "'2020-06-02 22:11:12'"
      ]
     },
     "execution_count": 20,
     "metadata": {},
     "output_type": "execute_result"
    }
   ],
   "source": [
    "f = datetime.datetime.today()\n",
    "f.strftime(\"%Y-%m-%d %H:%M:%S\")"
   ]
  },
  {
   "cell_type": "code",
   "execution_count": 21,
   "metadata": {},
   "outputs": [
    {
     "data": {
      "text/plain": [
       "19"
      ]
     },
     "execution_count": 21,
     "metadata": {},
     "output_type": "execute_result"
    }
   ],
   "source": [
    "len('2020-06-02 22:11:12')"
   ]
  },
  {
   "cell_type": "markdown",
   "metadata": {},
   "source": [
    "Reto: Modifica el script `le.py` para que imprima los elementos ordenados por fecha, los más recientes primero.\n",
    "\n",
    "```\n",
    "$ python le.py\n",
    "       338  2020-05-30T04:41:26  le.py\n",
    "      8282  2020-05-30T04:36:35  Notas.ipynb\n",
    "      4096  2020-05-30T04:11:18  .ipynb_checkpoints\n",
    "      2891  2020-05-30T04:03:22  Retos.ipynb$ \n",
    "```"
   ]
  },
  {
   "cell_type": "code",
   "execution_count": 11,
   "metadata": {},
   "outputs": [],
   "source": [
    "# tus notas aquí"
   ]
  },
  {
   "cell_type": "markdown",
   "metadata": {},
   "source": [
    "---\n",
    "### El módulo http.server\n",
    "\n",
    "Ejemplo: Inicia un servidor web y muestra la lista de archivos de la carpeta actual.\n",
    "\n",
    "Recuerda precionar Control+C para detener el servidor.\n",
    "\n",
    "```\n",
    "$ python -m http.server\n",
    "Serving HTTP on 0.0.0.0 port 8000 (http://0.0.0.0:8000/)\n",
    "```"
   ]
  },
  {
   "cell_type": "markdown",
   "metadata": {},
   "source": [
    "Ejemplo: Agrega el archivo `index.html` a la carpeta actual que muestre el mensaje `Hola Python`.\n",
    "\n",
    "```\n",
    "<html>\n",
    "<body>\n",
    "  <h3>Hola Python</h3>\n",
    "</body>\n",
    "</html>\n",
    "```"
   ]
  },
  {
   "cell_type": "markdown",
   "metadata": {},
   "source": [
    "Reto: Modifica el archivo `index.html` para que incluya una imagen después del texto. La imagen tiene que estar en la carpeta `img/`."
   ]
  },
  {
   "cell_type": "markdown",
   "metadata": {},
   "source": [
    "---\n",
    "### Creando módulos\n",
    "\n",
    "Ejemplo: Modifica el script `recorridos.py` para que se convierta en un módulo y además agrega la función `imprime_html()` para que imprima la tabla de la reservación en formato html.\n",
    "\n",
    "```\n",
    "$ python reservaciones.py --html\n",
    "...\n",
    "```\n",
    "\n",
    "Guarda el resultado en un archivo usando el siguiente instrucción:\n",
    "\n",
    "```\n",
    "$ python reservaciones.py --html > salida.html\n",
    "$\n",
    "```\n",
    "\n",
    "Ahora puedes abrir el archivo `salida.html` en un navegador."
   ]
  },
  {
   "cell_type": "code",
   "execution_count": 7,
   "metadata": {},
   "outputs": [],
   "source": [
    "import recorridos"
   ]
  },
  {
   "cell_type": "code",
   "execution_count": 8,
   "metadata": {},
   "outputs": [
    {
     "data": {
      "text/plain": [
       "([{'ORIGEN': 'Roma Norte', 'DESTINO': 'Tabacalera', 'TIEMPO': '15:00'},\n",
       "  {'ORIGEN': 'Reforma', 'DESTINO': 'Juárez', 'TIEMPO': '8:00'},\n",
       "  {'ORIGEN': 'Alameda', 'DESTINO': 'Condesa', 'TIEMPO': '20:00'},\n",
       "  {'ORIGEN': 'Roma Sur', 'DESTINO': 'Roma Norte', 'TIEMPO': '04:00'},\n",
       "  {'ORIGEN': 'Buenavista', 'DESTINO': 'Del Valle Norte', 'TIEMPO': '30:00'},\n",
       "  {'ORIGEN': 'Roma Norte', 'DESTINO': 'Centrp', 'TIEMPO': '24:00'}],\n",
       " '101:00')"
      ]
     },
     "execution_count": 8,
     "metadata": {},
     "output_type": "execute_result"
    }
   ],
   "source": [
    "recorridos.obtener_datos()"
   ]
  },
  {
   "cell_type": "markdown",
   "metadata": {},
   "source": [
    "Reto: Modifica el script `reservaciones.py` para que también imprima la reservación en formato CSV.\n",
    "\n",
    "```\n",
    "$ python reservaciones.py --csv\n",
    "...\n",
    "```\n",
    "\n",
    "Guarda el resultado en un archivo usando el siguiente instrucción:\n",
    "\n",
    "```\n",
    "$ python reservaciones.py --csv > salida.csv\n",
    "$\n",
    "```\n",
    "\n",
    "Ahora puedes abrir el archivo `salida.csv` en una hoja de cálculo.\n",
    "```"
   ]
  },
  {
   "cell_type": "code",
   "execution_count": 25,
   "metadata": {},
   "outputs": [
    {
     "name": "stdout",
     "output_type": "stream",
     "text": [
      "come\n",
      "duerme\n",
      "corre\n",
      "trabaja\n"
     ]
    }
   ],
   "source": [
    "for a in [\"come\", \"duerme\", \"corre\", \"trabaja\"]:\n",
    "    print(a)"
   ]
  }
 ],
 "metadata": {
  "kernelspec": {
   "display_name": "Python 3",
   "language": "python",
   "name": "python3"
  },
  "language_info": {
   "codemirror_mode": {
    "name": "ipython",
    "version": 3
   },
   "file_extension": ".py",
   "mimetype": "text/x-python",
   "name": "python",
   "nbconvert_exporter": "python",
   "pygments_lexer": "ipython3",
   "version": "3.7.4"
  }
 },
 "nbformat": 4,
 "nbformat_minor": 4
}
