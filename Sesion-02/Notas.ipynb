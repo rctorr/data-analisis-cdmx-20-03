{
 "cells": [
  {
   "cell_type": "markdown",
   "metadata": {},
   "source": [
    "# Programación con Python para Análisis de Datos"
   ]
  },
  {
   "cell_type": "markdown",
   "metadata": {},
   "source": [
    "---\n",
    "### Listas\n",
    "\n",
    "Ejemplo: Crear el script `enteros.py` que imprima una lista de números enteros comnezando con 0 y finalizando con un número entero N proporcionado por el usuario.\n",
    "\n",
    "```\n",
    "$ python enteros.py \n",
    "Dame el valor de N = 10\n",
    "0\n",
    "1\n",
    "2\n",
    "3\n",
    "4\n",
    "5\n",
    "6\n",
    "7\n",
    "8\n",
    "9\n",
    "```"
   ]
  },
  {
   "cell_type": "markdown",
   "metadata": {},
   "source": [
    "Ejecuta el script atnerior para obtener listas de número de tamaño 100, 1 000, 10 000, 100 000, 1 000 000."
   ]
  },
  {
   "cell_type": "markdown",
   "metadata": {},
   "source": [
    "__ADVERTENCIA!__ Bajo tu propio riesgo ejecuta el mismo script para generar listas de 10, 100 o 1000 millones, la razón es que al ejecutar el script podría llegar a consumir toda la memoria RAM de tu computadora haciendo que todo el sistema operativo se congele."
   ]
  },
  {
   "cell_type": "markdown",
   "metadata": {},
   "source": [
    "---\n",
    "### Operaciones con listas\n",
    "\n",
    "Ejemplo: Crear el script `claves.py` para generar n claves de forma aleatoria donde cada clave tiene longitud m. Cada clave debe tener al menos 1 mayúscula, una minúscula y un dígito. Los valores de n y m serán solicitados al usuario y si el valor de m no se proporciona por el usuario, se asignará un valor de 8.\n",
    "\n",
    "```\n",
    "$ python3 genera-claves.py \n",
    "Número de claves a generar: 3\n",
    "Longitud de claves (8): \n",
    "wDxIg9BJ\n",
    "8U3lNI2E\n",
    "0QiZqQRY\n",
    "```"
   ]
  },
  {
   "cell_type": "code",
   "execution_count": 2,
   "metadata": {},
   "outputs": [],
   "source": [
    "import random"
   ]
  },
  {
   "cell_type": "code",
   "execution_count": 7,
   "metadata": {},
   "outputs": [
    {
     "data": {
      "text/plain": [
       "<module 'random' from '/home/rctorr/miniconda3/lib/python3.7/random.py'>"
      ]
     },
     "execution_count": 7,
     "metadata": {},
     "output_type": "execute_result"
    }
   ],
   "source": [
    "random"
   ]
  },
  {
   "cell_type": "markdown",
   "metadata": {},
   "source": [
    "Reto (opcional): Modifica el script `genera-claves.py` para que también incluya cuando menos un símbolo `($%&/#@-_=+-*)` como parte de las claves.\n",
    "\n",
    "```\n",
    "$ python genera-claves-signos.py \n",
    "Número de claves a generar: 5\n",
    "Longitud de claves (8): 8\n",
    "U2$m=PE1\n",
    "R+w%8kA1\n",
    "$y3/tKHi\n",
    "7m&/OZ0M\n",
    "I1d/L-j-\n",
    "```"
   ]
  },
  {
   "cell_type": "markdown",
   "metadata": {},
   "source": [
    "---\n",
    "### Diccionarios\n",
    "\n",
    "Ejemplo: Modifica el script `recorridos.py` del Sesion-01 para que los datos de los recorridos estén en una sola variable de tipo diccionario e imprimirlo por medio de un ciclo `for`."
   ]
  },
  {
   "cell_type": "code",
   "execution_count": 8,
   "metadata": {},
   "outputs": [],
   "source": [
    "d = {\"nombre\":\"casa\", \"pisos\": 2, \"habitaciones\": 5}"
   ]
  },
  {
   "cell_type": "code",
   "execution_count": 9,
   "metadata": {},
   "outputs": [
    {
     "data": {
      "text/plain": [
       "dict_keys(['nombre', 'pisos', 'habitaciones'])"
      ]
     },
     "execution_count": 9,
     "metadata": {},
     "output_type": "execute_result"
    }
   ],
   "source": [
    "d.keys()"
   ]
  },
  {
   "cell_type": "code",
   "execution_count": 11,
   "metadata": {},
   "outputs": [
    {
     "data": {
      "text/plain": [
       "'350:00'"
      ]
     },
     "execution_count": 11,
     "metadata": {},
     "output_type": "execute_result"
    }
   ],
   "source": [
    "total = 350\n",
    "str(total) + \":00\""
   ]
  },
  {
   "cell_type": "markdown",
   "metadata": {},
   "source": [
    "Reto: Modifica el `recorridos.py` anterior para imprimir total como un resultado calculado."
   ]
  },
  {
   "cell_type": "markdown",
   "metadata": {},
   "source": [
    "---\n",
    "### Funciones\n",
    "\n",
    "Ejemplo: Modifica el script `claves.py` para que la lectura de un entero se realice por medio de una función llamada `lee_entero()`"
   ]
  },
  {
   "cell_type": "markdown",
   "metadata": {},
   "source": [
    "Ejemplo: Modifica el script `recorridos.py` para que los datos de los recorridos se obtengan por medio de la función `obtiene_recorridos()`"
   ]
  },
  {
   "cell_type": "markdown",
   "metadata": {},
   "source": [
    "Reto: Modifica el script `recorridos.py` para que la impresión de la tabla se realice con la función `imprime_txt()`"
   ]
  },
  {
   "cell_type": "markdown",
   "metadata": {},
   "source": [
    "---\n",
    "### Funciones Lambda\n",
    "\n",
    "Ejemplo: Modifica el script `recorridos.py` para que incluya una columna de distancias para cada recorrido y luego ordene la tabla en base a la columna de distancias colocando el recorrido de mayor distancia primero modificando las funciones que sea necesarias.\n",
    "\n",
    "```\n",
    "-------------------------------------------------------\n",
    "ORIGEN      | DESTINO           | DISTANCIA  | TIEMPO    \n",
    "-------------------------------------------------------\n",
    "Buenavista  | Del Valle Norte   | 7.4 km     |    30:00\n",
    "Alameda     | Condesa           | 5.4 km     |    20:00\n",
    "Roma Norte  | Tabacalera        | 3.5 km     |    15:00\n",
    "Reforma     | Juárez            | 1.2 km     |     8:00\n",
    "Roma Sur    | Roma Norte        | 0.8 km     |     4:00\n",
    "-------------------------------------------------------\n",
    "                                Tiempo total |  1:17:00\n",
    "```"
   ]
  },
  {
   "cell_type": "code",
   "execution_count": 2,
   "metadata": {},
   "outputs": [
    {
     "data": {
      "text/plain": [
       "16"
      ]
     },
     "execution_count": 2,
     "metadata": {},
     "output_type": "execute_result"
    }
   ],
   "source": [
    "def suma(a, b):\n",
    "    r = a + b\n",
    "    return r\n",
    "\n",
    "suma(5, 11)"
   ]
  },
  {
   "cell_type": "code",
   "execution_count": 4,
   "metadata": {},
   "outputs": [
    {
     "data": {
      "text/plain": [
       "16"
      ]
     },
     "execution_count": 4,
     "metadata": {},
     "output_type": "execute_result"
    }
   ],
   "source": [
    "# Funciones lambda, Programación Funcional\n",
    "suma = lambda a, b: a + b\n",
    "\n",
    "suma(5, 11)"
   ]
  },
  {
   "cell_type": "code",
   "execution_count": 9,
   "metadata": {},
   "outputs": [
    {
     "data": {
      "text/plain": [
       "[8, 7, 6, 3, 1]"
      ]
     },
     "execution_count": 9,
     "metadata": {},
     "output_type": "execute_result"
    }
   ],
   "source": [
    "l = [6,3,8,1,7]\n",
    "l.sort(reverse=True)\n",
    "l"
   ]
  },
  {
   "cell_type": "markdown",
   "metadata": {},
   "source": [
    "Reto: Modifica el script `recorridos.py` para que ordene la tabla en base a la columna DESTINO o TIEMPO.\n",
    "\n",
    "```\n",
    "-------------------------------------------------------\n",
    "ORIGEN      | DESTINO           | DISTANCIA  | TIEMPO    \n",
    "-------------------------------------------------------\n",
    "Alameda     | Condesa           | 5.4 km     |    20:00\n",
    "Buenavista  | Del Valle Norte   | 7.4 km     |    30:00\n",
    "Reforma     | Juárez            | 1.2 km     |     8:00\n",
    "Roma Norte  | Tabacalera        | 3.5 km     |    15:00\n",
    "Roma Sur    | Roma Norte        | 0.8 km     |     4:00\n",
    "-------------------------------------------------------\n",
    "                                Tiempo total |  1:17:00\n",
    "```"
   ]
  },
  {
   "cell_type": "code",
   "execution_count": null,
   "metadata": {},
   "outputs": [],
   "source": []
  }
 ],
 "metadata": {
  "kernelspec": {
   "display_name": "Python 3",
   "language": "python",
   "name": "python3"
  },
  "language_info": {
   "codemirror_mode": {
    "name": "ipython",
    "version": 3
   },
   "file_extension": ".py",
   "mimetype": "text/x-python",
   "name": "python",
   "nbconvert_exporter": "python",
   "pygments_lexer": "ipython3",
   "version": "3.7.4"
  }
 },
 "nbformat": 4,
 "nbformat_minor": 4
}
