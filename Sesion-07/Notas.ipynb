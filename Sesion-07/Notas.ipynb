{
 "cells": [
  {
   "cell_type": "markdown",
   "metadata": {},
   "source": [
    "---\n",
    "---\n",
    "### Web scraping\n",
    "---\n",
    "#### EJEMPLO: Módulo BeautifulSoup"
   ]
  },
  {
   "cell_type": "code",
   "execution_count": 2,
   "metadata": {},
   "outputs": [],
   "source": [
    "from bs4 import BeautifulSoup"
   ]
  },
  {
   "cell_type": "markdown",
   "metadata": {},
   "source": [
    "## Procesando cadenas de HTML"
   ]
  },
  {
   "cell_type": "code",
   "execution_count": 5,
   "metadata": {},
   "outputs": [
    {
     "name": "stdout",
     "output_type": "stream",
     "text": [
      "en\n",
      "de\n",
      "fr\n",
      "hr\n",
      "it\n",
      "es\n",
      "pt\n",
      "pt-br\n",
      "cs\n",
      "ru\n",
      "ar\n",
      "ja\n",
      "zh-hans\n",
      "zh-hant\n",
      "ko\n",
      "id\n"
     ]
    }
   ],
   "source": [
    "cadena = \"\"\"\n",
    " <link rel=\"alternate\" hreflang=\"en\" href=\"/\">\n",
    "      <link rel=\"alternate\" hreflang=\"de\" href=\"/de/\">\n",
    "      <link rel=\"alternate\" hreflang=\"fr\" href=\"/fr/\">\n",
    "      <link rel=\"alternate\" hreflang=\"hr\" href=\"/hr/\">\n",
    "      <link rel=\"alternate\" hreflang=\"it\" href=\"/it/\">\n",
    "      <link rel=\"alternate\" hreflang=\"es\" href=\"/es/\">\n",
    "      <link rel=\"alternate\" hreflang=\"pt\" href=\"/pt/\">\n",
    "      <link rel=\"alternate\" hreflang=\"pt-br\" href=\"/pt-br/\">\n",
    "      <link rel=\"alternate\" hreflang=\"cs\" href=\"/cs/\">\n",
    "      <link rel=\"alternate\" hreflang=\"ru\" href=\"/ru/\">\n",
    "      <link rel=\"alternate\" hreflang=\"ar\" href=\"/ar/\">\n",
    "      <link rel=\"alternate\" hreflang=\"ja\" href=\"/ja/\">\n",
    "      <link rel=\"alternate\" hreflang=\"zh-hans\" href=\"/zh-hans/\">\n",
    "      <link rel=\"alternate\" hreflang=\"zh-hant\" href=\"/zh-hant/\">\n",
    "      <link rel=\"alternate\" hreflang=\"ko\" href=\"/ko/\">\n",
    "      <link rel=\"alternate\" hreflang=\"id\" href=\"/id/\">\n",
    "\"\"\"\n",
    "sopa = BeautifulSoup(cadena)\n",
    "links = sopa.find_all(\"link\")\n",
    "for link in links:\n",
    "    print(link[\"hreflang\"])"
   ]
  },
  {
   "cell_type": "code",
   "execution_count": null,
   "metadata": {},
   "outputs": [],
   "source": []
  }
 ],
 "metadata": {
  "kernelspec": {
   "display_name": "Python 3",
   "language": "python",
   "name": "python3"
  },
  "language_info": {
   "codemirror_mode": {
    "name": "ipython",
    "version": 3
   },
   "file_extension": ".py",
   "mimetype": "text/x-python",
   "name": "python",
   "nbconvert_exporter": "python",
   "pygments_lexer": "ipython3",
   "version": "3.7.4"
  }
 },
 "nbformat": 4,
 "nbformat_minor": 4
}
